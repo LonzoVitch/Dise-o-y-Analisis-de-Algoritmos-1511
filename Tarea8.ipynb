{
  "nbformat": 4,
  "nbformat_minor": 0,
  "metadata": {
    "colab": {
      "provenance": [],
      "authorship_tag": "ABX9TyPJJhzOqVPCVWMY/jz8yjFc",
      "include_colab_link": true
    },
    "kernelspec": {
      "name": "python3",
      "display_name": "Python 3"
    },
    "language_info": {
      "name": "python"
    }
  },
  "cells": [
    {
      "cell_type": "markdown",
      "metadata": {
        "id": "view-in-github",
        "colab_type": "text"
      },
      "source": [
        "<a href=\"https://colab.research.google.com/github/LonzoVitch/Dise-o-y-Analisis-de-Algoritmos-1511/blob/main/Tarea8.ipynb\" target=\"_parent\"><img src=\"https://colab.research.google.com/assets/colab-badge.svg\" alt=\"Open In Colab\"/></a>"
      ]
    },
    {
      "cell_type": "code",
      "execution_count": null,
      "metadata": {
        "id": "rd1jmsERyg1V"
      },
      "outputs": [],
      "source": [
        "def main():\n",
        "  mensaje = input(\"Mensaje a analizar: \")\n",
        "  llave = int(input(\"Llave [1-26]:\"))\n",
        "  modo = input(\"Cifrar o descifrar [c/d]:\")\n",
        "\n",
        "  if modo.lower().startswith('c'):\n",
        "    modo =\"cifrar\"\n",
        "  elif modo.lower().startswith('d'):\n",
        "    modo =\"descifrar\"\n",
        "\n",
        "  transladar = encdec(mensaje, llave, modo)\n",
        "  if modo == \"cifar\":\n",
        "    print((\"Mensaje cifrado:\", transladar))\n",
        "  elif modo==\"descifrar\":\n",
        "    print((\"Mensaje Descifrado:\", transladar))\n",
        "\n",
        "\n",
        "def encdec(mensaje, llave, modo):\n",
        "  mensaje = mensaje.upper()\n",
        "  transladar = \"\"\n",
        "  LETRAS =\"ABCDEFGHIJKLMNOPQRSTUVWXYZ\"\n",
        "  for simbolo in mensaje:\n",
        "    if simbolo in LETRAS:\n",
        "      num = LETRAS.find(simbolo)\n",
        "      if modo == \"cifrar\":\n",
        "        num = num + llave\n",
        "      elif modo == \"descifrar\":\n",
        "        num = num - llave\n",
        "\n",
        "      if num >= len(LETRAS):\n",
        "        num -= len(LETRAS)\n",
        "      elif num < 0:\n",
        "        num += len(LETRAS)\n",
        "\n",
        "      transladar += LETRAS[num]\n",
        "    else:\n",
        "      transladar += simbolo\n",
        "  return transladar\n",
        "\n",
        "if __name__ == '__main__':\n",
        "  main()\n",
        "  input()"
      ]
    }
  ]
}