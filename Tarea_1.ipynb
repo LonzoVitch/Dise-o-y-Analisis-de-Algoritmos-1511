{
  "nbformat": 4,
  "nbformat_minor": 0,
  "metadata": {
    "colab": {
      "name": "Tarea_1.ipynb",
      "provenance": [],
      "authorship_tag": "ABX9TyOEGD+5o4LZ3YeSVFAc59Bj",
      "include_colab_link": true
    },
    "kernelspec": {
      "name": "python3",
      "display_name": "Python 3"
    },
    "language_info": {
      "name": "python"
    }
  },
  "cells": [
    {
      "cell_type": "markdown",
      "metadata": {
        "id": "view-in-github",
        "colab_type": "text"
      },
      "source": [
        "<a href=\"https://colab.research.google.com/github/LonzoVitch/Dise-o-y-Analisis-de-Algoritmos-1511/blob/main/Tarea_1.ipynb\" target=\"_parent\"><img src=\"https://colab.research.google.com/assets/colab-badge.svg\" alt=\"Open In Colab\"/></a>"
      ]
    },
    {
      "cell_type": "code",
      "execution_count": 1,
      "metadata": {
        "id": "dEf4AeiQ0bwv"
      },
      "outputs": [],
      "source": [
        "class ArbolFake  :\n",
        "  def __init__( self, value, left=None, center=None, right=None):\n",
        "    self.data = value\n",
        "    self.left = left\n",
        "    self.center = center\n",
        "    self.right = right"
      ]
    },
    {
      "cell_type": "code",
      "source": [
        "Head = ArbolFake(20, None, ArbolFake(19, ArbolFake(67,\\\n",
        "None, ArbolFake(99), None), None, None), ArbolFake(23, None, ArbolFake(57), None))\n",
        "\n",
        "\n",
        "\n",
        "print(Head.center.left.center.data)\n",
        "print(Head.right.center.data)"
      ],
      "metadata": {
        "colab": {
          "base_uri": "https://localhost:8080/"
        },
        "id": "cQkuaGdm01Jt",
        "outputId": "b1c8f7dd-b6f7-4504-9aa9-7a6dbc98d3ef"
      },
      "execution_count": 2,
      "outputs": [
        {
          "output_type": "stream",
          "name": "stdout",
          "text": [
            "99\n",
            "57\n"
          ]
        }
      ]
    }
  ]
}