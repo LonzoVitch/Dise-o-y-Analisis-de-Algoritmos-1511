{
  "nbformat": 4,
  "nbformat_minor": 0,
  "metadata": {
    "colab": {
      "provenance": [],
      "authorship_tag": "ABX9TyMETIET3nEYpoceILHfsvxI",
      "include_colab_link": true
    },
    "kernelspec": {
      "name": "python3",
      "display_name": "Python 3"
    },
    "language_info": {
      "name": "python"
    }
  },
  "cells": [
    {
      "cell_type": "markdown",
      "metadata": {
        "id": "view-in-github",
        "colab_type": "text"
      },
      "source": [
        "<a href=\"https://colab.research.google.com/github/LonzoVitch/Dise-o-y-Analisis-de-Algoritmos-1511/blob/main/Tarea%206.ipynb\" target=\"_parent\"><img src=\"https://colab.research.google.com/assets/colab-badge.svg\" alt=\"Open In Colab\"/></a>"
      ]
    },
    {
      "cell_type": "code",
      "execution_count": 45,
      "metadata": {
        "colab": {
          "base_uri": "https://localhost:8080/"
        },
        "id": "aDX6-7lDOaGt",
        "outputId": "b4846547-02ad-46d2-fe1d-243f155df9dd"
      },
      "outputs": [
        {
          "output_type": "stream",
          "name": "stdout",
          "text": [
            "[0.65, 0.21, 0.53, 0.12, 0.37, 0.67, 0.51, 0.1, 0.08]\n",
            "\n",
            "Ordenados\n",
            "\n",
            "[0.08, 0.1, 0.12, 0.21, 0.37, 0.51, 0.53, 0.65, 0.67]\n"
          ]
        }
      ],
      "source": [
        "def bucketSort(datos):\n",
        "    cubeta = []\n",
        "    slots = 10\n",
        "\n",
        "    for i in range(len(datos)):\n",
        "        cubeta.append([])\n",
        "\n",
        "    for slots in datos:\n",
        "        num = int(10 * slots)\n",
        "        cubeta[num].append(slots)\n",
        "\n",
        "    for i in range(len(datos)):\n",
        "        cubeta[i] = sorted(cubeta[i])\n",
        "\n",
        "    contador = 0\n",
        "    for i in range(len(datos)):\n",
        "        for slots in range(len(cubeta[i])):\n",
        "            datos[contador] = cubeta[i][slots]\n",
        "            contador += 1\n",
        "    return datos\n",
        "\n",
        "\n",
        "datos = [.65, .21, .53, .12, .37, .67, .51, .10, .08]\n",
        "print(datos)\n",
        "print(\"\")\n",
        "print(\"Ordenados\")\n",
        "print(\"\")\n",
        "print(bucketSort(datos))"
      ]
    }
  ]
}