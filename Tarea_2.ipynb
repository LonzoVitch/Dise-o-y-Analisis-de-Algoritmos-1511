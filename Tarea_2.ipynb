{
  "nbformat": 4,
  "nbformat_minor": 0,
  "metadata": {
    "colab": {
      "name": "Tarea_2.ipynb",
      "provenance": [],
      "authorship_tag": "ABX9TyMAmgEs7lboyXEUY8di8PLW",
      "include_colab_link": true
    },
    "kernelspec": {
      "name": "python3",
      "display_name": "Python 3"
    },
    "language_info": {
      "name": "python"
    }
  },
  "cells": [
    {
      "cell_type": "markdown",
      "metadata": {
        "id": "view-in-github",
        "colab_type": "text"
      },
      "source": [
        "<a href=\"https://colab.research.google.com/github/LonzoVitch/Dise-o-y-Analisis-de-Algoritmos-1511/blob/main/Tarea_2.ipynb\" target=\"_parent\"><img src=\"https://colab.research.google.com/assets/colab-badge.svg\" alt=\"Open In Colab\"/></a>"
      ]
    },
    {
      "cell_type": "code",
      "execution_count": null,
      "metadata": {
        "colab": {
          "base_uri": "https://localhost:8080/"
        },
        "id": "qupnv8O64C-L",
        "outputId": "537cfec6-8b23-4c63-a222-1f5bd73e8b54"
      },
      "outputs": [
        {
          "output_type": "stream",
          "name": "stdout",
          "text": [
            "Instruciones de siglas Piso/Puerta\n",
            "Piso 1 : Puerta A = 1A, Puerta B = 1B, Puerta C = 1C, Puerta D = 1D\n",
            "Piso 2 : Puerta A = 2A, Puerta B = 2B, Puerta C = 2C, Puerta D = 2D\n",
            "Piso 3 : Puerta A = 3A, Puerta B = 3B, Puerta C = 3C, Puerta D = 3D\n",
            "Piso 4 : Puerta A = 4A, Puerta B = 4B, Puerta C = 4C, Puerta D = 4D\n",
            "Piso 5 : Puerta A = 5A, Puerta B = 5B, Puerta C = 5C, Puerta D = 5D\n",
            "Piso 6 : Puerta A = 6A, Puerta B = 6B, Puerta C = 6C, Puerta D = 6D\n",
            "  \n"
          ]
        }
      ],
      "source": [
        "print('Instruciones de siglas Piso/Puerta')\n",
        "print ('Piso 1 : Puerta A = 1A, Puerta B = 1B, Puerta C = 1C, Puerta D = 1D')\n",
        "print ('Piso 2 : Puerta A = 2A, Puerta B = 2B, Puerta C = 2C, Puerta D = 2D')\n",
        "print ('Piso 3 : Puerta A = 3A, Puerta B = 3B, Puerta C = 3C, Puerta D = 3D')\n",
        "print ('Piso 4 : Puerta A = 4A, Puerta B = 4B, Puerta C = 4C, Puerta D = 4D')\n",
        "print ('Piso 5 : Puerta A = 5A, Puerta B = 5B, Puerta C = 5C, Puerta D = 5D')\n",
        "print ('Piso 6 : Puerta A = 6A, Puerta B = 6B, Puerta C = 6C, Puerta D = 6D')\n",
        "print(\"  \")\n",
        "\n",
        "\n",
        "\n",
        "\n"
      ]
    },
    {
      "cell_type": "code",
      "source": [
        "print('Primer piso')\n",
        "AU = int(input('Número de habitantes A1: '))\n",
        "BU = int(input('Número de habitantes B1: '))\n",
        "CU = int(input('Número de habitantes C1: '))\n",
        "DU = int(input('Número de habitantes D1: '))\n",
        "H1 = AU + BU + CU + DU\n",
        "print('Habitantes primer piso: ', H1)\n",
        "P1 = (AU, BU, CU, DU)\n",
        "M1 = P1[0]\n",
        "for i in range(0,len(P1)):\n",
        "  if P1[i]>M1:\n",
        "    M1=P1[i]\n",
        "print(\"La puerta con más habitantes es:\", M1)\n",
        "print(\"  \")\n",
        "\n",
        "print('Segundo piso')\n",
        "AD = int(input('Número de habitantes A2: '))\n",
        "BD = int(input('Número de habitantes B2: '))\n",
        "CD = int(input('Número de habitantes C2: '))\n",
        "DD = int(input('Número de habitantes D2: '))\n",
        "H2 = AD + BD + CD + DD\n",
        "print('Habitantes piso: ', H2)\n",
        "P2 = (AD, BD, CD, DD)\n",
        "M2 = P2[0]\n",
        "for i in range(0,len(P2)):\n",
        "  if P2[i]>M1:\n",
        "    M2=P2[i]\n",
        "print(\"La puerta con más habitantes es:\", M2)\n",
        "print(\"  \")\n",
        "\n",
        "\n",
        "print('Tercer piso')\n",
        "AT = int(input('Número de habitantes A3: '))\n",
        "BT = int(input('Número de habitantes B3: '))\n",
        "CT = int(input('Número de habitantes C3: '))\n",
        "DT = int(input('Número de habitantes D3: '))\n",
        "H3 = AT + BT + CT + DT\n",
        "print('Habitantes piso: ', H3)\n",
        "P3 = (AT, BT, CT, DT)\n",
        "M3 = P3[0]\n",
        "for i in range(0,len(P3)):\n",
        "  if P3[i]>M3:\n",
        "    M3=P3[i]\n",
        "print(\"La puerta con más habitantes es:\", M3)\n",
        "print(\"  \")\n",
        "\n",
        "print('Cuarto piso')\n",
        "AC = int(input('Número de habitantes A4: '))\n",
        "BC = int(input('Número de habitantes B4: '))\n",
        "CC = int(input('Número de habitantes C4: '))\n",
        "DC = int(input('Número de habitantes D4: '))\n",
        "H4 = AC + BC + CC + DC\n",
        "print('Habitantes piso: ', H4)\n",
        "P4 = (AC, BC, CC, DC)\n",
        "M4 = P4[0]\n",
        "for i in range(0,len(P4)):\n",
        "  if P4[i]>M4:\n",
        "    M4=P4[i]\n",
        "print(\"La puerta con más habitantes es:\", M4)\n",
        "print(\"  \")\n",
        "\n",
        "print('Quinto piso')\n",
        "AF = int(input('Número de habitantes A5: '))\n",
        "BF = int(input('Número de habitantes B5: '))\n",
        "CF = int(input('Número de habitantes C5: '))\n",
        "DF = int(input('Número de habitantes D5: '))\n",
        "H5 = AF + BF + CF + DF\n",
        "print('Habitantes piso: ', H5)\n",
        "P5 = (AF, BF, CF, DF)\n",
        "M5 = P5[0]\n",
        "for i in range(0,len(P5)):\n",
        "  if P5[i]>M5:\n",
        "    M5=P5[i]\n",
        "print(\"La puerta con más habitantes es:\", M5)\n",
        "print(\"  \")\n",
        "\n",
        "print('Sexto piso')\n",
        "AS = int(input('Número de habitantes A6: '))\n",
        "BS = int(input('Número de habitantes B6: '))\n",
        "CS = int(input('Número de habitantes C6: '))\n",
        "DS = int(input('Número de habitantes D6: '))\n",
        "H6 = AS + BS + CS + DS\n",
        "print('Habitantes piso: ', H6)\n",
        "P6 = (AS, BS, CS, DS)\n",
        "M6 = P6[0]\n",
        "for i in range(0,len(P6)):\n",
        "  if P6[i]>M6:\n",
        "    M6=P6[i]\n",
        "print(\"La puerta con más habitantes es:\", M6)\n",
        "\n",
        "MH = (M1, M2, M3, M4, M5, M6)\n",
        "MHT = MH[0]\n",
        "for i in range(0,len(MH)):\n",
        "  if MH[i]>MHT:\n",
        "    MHT=MH[i]\n",
        "print(\"La mayor cantidad de habitantes en una puerta es:\", MHT)\n"
      ],
      "metadata": {
        "colab": {
          "base_uri": "https://localhost:8080/"
        },
        "id": "-5VC5PrJAiKO",
        "outputId": "fb943d0c-fe32-4c2d-f86e-a77915a9e011"
      },
      "execution_count": 1,
      "outputs": [
        {
          "output_type": "stream",
          "name": "stdout",
          "text": [
            "Primer piso\n",
            "Número de habitantes A1: 2\n",
            "Número de habitantes B1: 1\n",
            "Número de habitantes C1: 3\n",
            "Número de habitantes D1: 4\n",
            "Habitantes primer piso:  10\n",
            "La puerta con más habitantes es: 4\n",
            "  \n",
            "Segundo piso\n",
            "Número de habitantes A2: 1\n",
            "Número de habitantes B2: 2\n",
            "Número de habitantes C2: 3\n",
            "Número de habitantes D2: 4\n",
            "Habitantes piso:  10\n",
            "La puerta con más habitantes es: 1\n",
            "  \n",
            "Tercer piso\n",
            "Número de habitantes A3: 1\n",
            "Número de habitantes B3: 4\n",
            "Número de habitantes C3: 2\n",
            "Número de habitantes D3: 5\n",
            "Habitantes piso:  12\n",
            "La puerta con más habitantes es: 5\n",
            "  \n",
            "Cuarto piso\n",
            "Número de habitantes A4: 1\n",
            "Número de habitantes B4: 5\n",
            "Número de habitantes C4: 6\n",
            "Número de habitantes D4: 0\n",
            "Habitantes piso:  12\n",
            "La puerta con más habitantes es: 6\n",
            "  \n",
            "Quinto piso\n",
            "Número de habitantes A5: 3\n",
            "Número de habitantes B5: 4\n",
            "Número de habitantes C5: 5\n",
            "Número de habitantes D5: 7\n",
            "Habitantes piso:  19\n",
            "La puerta con más habitantes es: 7\n",
            "  \n",
            "Sexto piso\n",
            "Número de habitantes A6: 2\n",
            "Número de habitantes B6: 3\n",
            "Número de habitantes C6: 4\n",
            "Número de habitantes D6: 5\n",
            "Habitantes piso:  14\n",
            "La puerta con más habitantes es: 5\n",
            "La mayor cantidad de habitantes en una puerta es: 7\n"
          ]
        }
      ]
    }
  ]
}