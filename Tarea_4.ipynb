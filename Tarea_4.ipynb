{
  "nbformat": 4,
  "nbformat_minor": 0,
  "metadata": {
    "colab": {
      "provenance": [],
      "authorship_tag": "ABX9TyNVv+ST4drnXJIZRir9piVF",
      "include_colab_link": true
    },
    "kernelspec": {
      "name": "python3",
      "display_name": "Python 3"
    },
    "language_info": {
      "name": "python"
    }
  },
  "cells": [
    {
      "cell_type": "markdown",
      "metadata": {
        "id": "view-in-github",
        "colab_type": "text"
      },
      "source": [
        "<a href=\"https://colab.research.google.com/github/LonzoVitch/Dise-o-y-Analisis-de-Algoritmos-1511/blob/main/Tarea_4.ipynb\" target=\"_parent\"><img src=\"https://colab.research.google.com/assets/colab-badge.svg\" alt=\"Open In Colab\"/></a>"
      ]
    },
    {
      "cell_type": "code",
      "execution_count": 18,
      "metadata": {
        "colab": {
          "base_uri": "https://localhost:8080/"
        },
        "id": "iw-VspuByuJW",
        "outputId": "f03f006d-9728-496a-83e6-9bc1b2cc2028"
      },
      "outputs": [
        {
          "output_type": "stream",
          "name": "stdout",
          "text": [
            " Ingrese la hora que quiere verificar en formato 24 horas, numeros corridos sin puntos o comas: 1221\n",
            " La hora es palindromo \n"
          ]
        }
      ],
      "source": [
        "num = int( input ( \" Ingrese la hora que quiere verificar en formato 24 horas, numeros corridos sin puntos o comas: \" ) )\n",
        " \n",
        "t = num\n",
        "r = 0\n",
        "\n",
        "while t!= 0:\n",
        "\tr = ( r * 10 ) + ( t % 10 )\n",
        "\tt = t // 10\n",
        " \n",
        "if num == r:\n",
        "\tprint( \" La hora es palindromo \" )\n",
        "else:\n",
        "\tprint( \" La hora no es palindromo \" )"
      ]
    }
  ]
}